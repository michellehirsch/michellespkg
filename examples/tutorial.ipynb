{
 "cells": [
  {
   "cell_type": "markdown",
   "metadata": {},
   "source": [
    "# Tutorial: Getting Started with `michellespkg`\n",
    "\n",
    "Welcome to this interactive tutorial for `michellespkg`! This library helps you calculate the area of common 2D shapes and visualize them.\n",
    "\n",
    "**How to use this notebook:**\n",
    "1. Read the explanations in the text cells (like this one).\n",
    "2. Run the code cells by selecting them and pressing `Shift + Enter` (or clicking the \"Play\" button to the left of the cell).\n",
    "3. Observe the output and feel free to modify the code cells to experiment!"
   ]
  },
  {
   "cell_type": "markdown",
   "metadata": {},
   "source": [
    "## 1. Installation\n",
    "\n",
    "First, we need to install `michellespkg` and its dependency, `matplotlib`.\n",
    "\n",
    "Since `michellespkg` is not yet on PyPI, we'll install it directly from its GitHub repository. \n",
    "\n",
    "**Note:** You'll need to replace `<YOUR_GITHUB_USERNAME>/michellespkg` with the actual path to your repository if it's different or if you're working from a fork."
   ]
  },
  {
   "cell_type": "code",
   "execution_count": null,
   "metadata": {},
   "outputs": [],
   "source": [
    "!pip install git+https://github.com/michellehirsch/michellespkg.git\n",
    "!pip install matplotlib"
   ]
  },
  {
   "cell_type": "markdown",
   "metadata": {},
   "source": [
    "After running the cell above, `michellespkg` and `matplotlib` should be installed in this notebook's environment."
   ]
  },
  {
   "cell_type": "markdown",
   "metadata": {},
   "source": [
    "## 2. Importing the Library\n",
    "\n",
    "Now that the package is installed, let's import it."
   ]
  },
  {
   "cell_type": "code",
   "execution_count": null,
   "metadata": {},
   "outputs": [],
   "source": [
    "import michellespkg\n",
    "import math # We'll use math.pi for verifying circle area"
   ]
  },
  {
   "cell_type": "markdown",
   "metadata": {},
   "source": [
    "## 3. Calculating Areas\n",
    "\n",
    "`michellespkg` provides functions to calculate the area of rectangles, circles, and triangles."
   ]
  },
  {
   "cell_type": "markdown",
   "metadata": {},
   "source": [
    "### 3.1 Area of a Rectangle\n",
    "\n",
    "Use `michellespkg.area_rectangle(length, width)`."
   ]
  },
  {
   "cell_type": "code",
   "execution_count": null,
   "metadata": {},
   "outputs": [],
   "source": [
    "length_rect = 10\n",
    "width_rect = 5\n",
    "rect_area = michellespkg.area_rectangle(length_rect, width_rect)\n",
    "\n",
    "print(f\"The area of a rectangle with length {length_rect} and width {width_rect} is: {rect_area}\")"
   ]
  },
  {
   "cell_type": "markdown",
   "metadata": {},
   "source": [
    "Try changing `length_rect` and `width_rect` and re-running the cell!"
   ]
  },
  {
   "cell_type": "markdown",
   "metadata": {},
   "source": [
    "### 3.2 Area of a Circle\n",
    "\n",
    "Use `michellespkg.area_circle(radius)`."
   ]
  },
  {
   "cell_type": "code",
   "execution_count": null,
   "metadata": {},
   "outputs": [],
   "source": [
    "radius_circ = 7\n",
    "circ_area = michellespkg.area_circle(radius_circ)\n",
    "\n",
    "print(f\"The area of a circle with radius {radius_circ} is: {circ_area}\")\n",
    "print(f\"For comparison, math.pi * radius^2 is: {math.pi * radius_circ**2}\")"
   ]
  },
  {
   "cell_type": "markdown",
   "metadata": {},
   "source": [
    "### 3.3 Area of a Triangle\n",
    "\n",
    "Use `michellespkg.area_triangle(base, height)`."
   ]
  },
  {
   "cell_type": "code",
   "execution_count": null,
   "metadata": {},
   "outputs": [],
   "source": [
    "base_tri = 8\n",
    "height_tri = 4\n",
    "tri_area = michellespkg.area_triangle(base_tri, height_tri)\n",
    "\n",
    "print(f\"The area of a triangle with base {base_tri} and height {height_tri} is: {tri_area}\")"
   ]
  },
  {
   "cell_type": "markdown",
   "metadata": {},
   "source": [
    "## 4. Visualizing Shapes\n",
    "\n",
    "`michellespkg` can also generate simple plots of these shapes using `matplotlib`. When you run these cells, a plot should appear directly below the cell.\n",
    "\n",
    "**Note:** In some Jupyter environments, you might need to run `%matplotlib inline` once to ensure plots appear within the notebook. However, it's often enabled by default in environments like Colab."
   ]
  },
  {
   "cell_type": "code",
   "execution_count": null,
   "metadata": {},
   "outputs": [],
   "source": [
    "# This magic command ensures plots are displayed inline in the notebook.\n",
    "# It's often not strictly necessary in modern Jupyter environments like Colab but is good practice.\n",
    "%matplotlib inline"
   ]
  },
  {
   "cell_type": "markdown",
   "metadata": {},
   "source": [
    "### 4.1 Plotting a Rectangle\n",
    "\n",
    "Use `michellespkg.plot_rectangle(length, width, origin=(x,y))`."
   ]
  },
  {
   "cell_type": "code",
   "execution_count": null,
   "metadata": {},
   "outputs": [],
   "source": [
    "michellespkg.plot_rectangle(length=12, width=6, origin=(1,1))"
   ]
  },
  {
   "cell_type": "markdown",
   "metadata": {},
   "source": [
    "### 4.2 Plotting a Circle\n",
    "\n",
    "Use `michellespkg.plot_circle(radius, center=(x,y))`."
   ]
  },
  {
   "cell_type": "code",
   "execution_count": null,
   "metadata": {},
   "outputs": [],
   "source": [
    "michellespkg.plot_circle(radius=5, center=(2, 2))"
   ]
  },
  {
   "cell_type": "markdown",
   "metadata": {},
   "source": [
    "### 4.3 Plotting a Triangle\n",
    "\n",
    "Use `michellespkg.plot_triangle(base, height, origin=(x,y))` (for a right-angled triangle)."
   ]
  },
  {
   "cell_type": "code",
   "execution_count": null,
   "metadata": {},
   "outputs": [],
   "source": [
    "michellespkg.plot_triangle(base=9, height=4.5, origin=(0,0))"
   ]
  },
  {
   "cell_type": "markdown",
   "metadata": {},
   "source": [
    "## 5. Error Handling\n",
    "\n",
    "The functions in `michellespkg` will raise `ValueError` if you provide invalid inputs (e.g., negative dimensions)."
   ]
  },
  {
   "cell_type": "code",
   "execution_count": null,
   "metadata": {},
   "outputs": [],
   "source": [
    "try:\n",
    "    michellespkg.area_rectangle(-5, 10)\n",
    "except ValueError as e:\n",
    "    print(f\"Caught an error as expected: {e}\")"
   ]
  },
  {
   "cell_type": "code",
   "execution_count": null,
   "metadata": {},
   "outputs": [],
   "source": [
    "try:\n",
    "    michellespkg.plot_circle(radius=0)\n",
    "except ValueError as e:\n",
    "    print(f\"Caught an error as expected: {e}\")"
   ]
  },
  {
   "cell_type": "markdown",
   "metadata": {},
   "source": [
    "## Conclusion\n",
    "\n",
    "This tutorial covered the basic functionalities of `michellespkg`:\n",
    "* Installing the package.\n",
    "* Calculating areas of rectangles, circles, and triangles.\n",
    "* Visualizing these shapes.\n",
    "\n",
    "Feel free to explore further by modifying the parameters in the code cells or trying different combinations of function calls. For more details, you can always refer to the package's source code or its `README.md` file."
   ]
  }
 ],
 "metadata": {
  "kernelspec": {
   "display_name": "Python 3",
   "language": "python",
   "name": "python3"
  },
  "language_info": {
   "codemirror_mode": {
    "name": "ipython",
    "version": 3
   },
   "file_extension": ".py",
   "mimetype": "text/x-python",
   "name": "python",
   "nbconvert_exporter": "python",
   "pygments_lexer": "ipython3",
   "version": "3.10.12"
  }
 },
 "nbformat": 4,
 "nbformat_minor": 2
}
